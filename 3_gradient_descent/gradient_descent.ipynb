{
 "cells": [
  {
   "cell_type": "code",
   "execution_count": null,
   "metadata": {},
   "outputs": [],
   "source": [
    "import numpy as np\n",
    "import matplotlib.pyplot as plt"
   ]
  },
  {
   "cell_type": "code",
   "execution_count": null,
   "metadata": {
    "collapsed": true
   },
   "outputs": [],
   "source": [
    "%matplotlib inline\n",
    "def gradient_descent(x,y):\n",
    "    m_curr = b_curr = 0\n",
    "    rate = 0.01\n",
    "    n = len(x)\n",
    "    plt.scatter(x,y,color='red',marker='+',linewidth='5')\n",
    "    for i in range(10000):\n",
    "        y_predicted = m_curr * x + b_curr\n",
    "#         print (m_curr,b_curr, i)\n",
    "        plt.plot(x,y_predicted,color='green')\n",
    "        md = -(2/n)*sum(x*(y-y_predicted))\n",
    "        yd = -(2/n)*sum(y-y_predicted)\n",
    "        m_curr = m_curr - rate * md\n",
    "        b_curr = b_curr - rate * yd\n",
    "        "
   ]
  },
  {
   "cell_type": "code",
   "execution_count": null,
   "metadata": {
    "collapsed": true
   },
   "outputs": [],
   "source": [
    "x = np.array([1,2,3,4,5])\n",
    "y = np.array([5,7,9,11,13])"
   ]
  },
  {
   "cell_type": "code",
   "execution_count": null,
   "metadata": {},
   "outputs": [],
   "source": [
    "gradient_descent(x,y)"
   ]
  }
 ],
 "metadata": {
  "kernelspec": {
   "display_name": "Python 3.9.12 ('dataj')",
   "language": "python",
   "name": "python3"
  },
  "language_info": {
   "codemirror_mode": {
    "name": "ipython",
    "version": 3
   },
   "file_extension": ".py",
   "mimetype": "text/x-python",
   "name": "python",
   "nbconvert_exporter": "python",
   "pygments_lexer": "ipython3",
   "version": "3.9.12"
  },
  "vscode": {
   "interpreter": {
    "hash": "4d84dae46edf4d33b23d53de8e8960f6d859ae205b66901d25919b2bcde172bb"
   }
  }
 },
 "nbformat": 4,
 "nbformat_minor": 2
}
